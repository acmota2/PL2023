{
  "cells": [
    {
      "attachments": {},
      "cell_type": "markdown",
      "metadata": {
        "id": "0JpXqXdRLYK6"
      },
      "source": [
        "# TPC1: Análise de dados: doença cardíaca\n",
        "\n",
        "Descarregue o ficheiro de dados: `myheart.csv`\n",
        "Crie um programa em Python, conjunto de funções, que responda às seguintes questões:\n",
        "* Crie uma função que lê a informação do ficheiro para um modelo, previamente pensado em memória;\n",
        "* Pense num modelo para guardar uma distribuição;\n",
        "* Crie uma função que calcula a distribuição da doença por sexo;\n",
        "* Crie uma função que calcula a distribuição da doença por escalões etários. Considere os seguintes escalões: [30-34], [35-39], [40-44], ...\n",
        "* Crie uma função que calcula a distribuição da doença por níveis de colesterol. Considere um nível igual a um intervalo de 10 unidades, comece no limite inferior e crie os níveis necessários até abranger o limite superior;\n",
        "* Crie uma função que imprime na forma de uma tabela uma distribuição;\n",
        "* Especifique um programa que ao executar apresenta as tabelas correspondentes às distribuições pedidas;\n",
        "* Extra: explore o módulo matplotlib e crie gráficos para as suas distribuições."
      ]
    },
    {
      "attachments": {},
      "cell_type": "markdown",
      "metadata": {},
      "source": [
        "### Ex 1:"
      ]
    },
    {
      "cell_type": "code",
      "execution_count": null,
      "metadata": {},
      "outputs": [],
      "source": [
        "def read_csv(file) -> list[str]:\n",
        "    _, *content = file.readlines()\n",
        "    return content\n",
        "\n",
        "from functools import reduce\n",
        "\n",
        "class person:\n",
        "    def __init__(self, line: str):\n",
        "        raw = line.split(',')\n",
        "        self.data_fields = {}\n",
        "        self.data_fields['age'] = int(raw[0])\n",
        "        self.data_fields['sex'] = raw[1]\n",
        "        self.data_fields['tension'] = int(raw[2])\n",
        "        self.data_fields['colesterol'] = int(raw[3])\n",
        "        self.data_fields['heart_bpm'] = int(raw[4])\n",
        "        self.data_fields['has_disease'] = raw[5][0] == '1'\n",
        "\n",
        "    def __str__(self):\n",
        "        return str(self.data_fields)\n",
        "    \n",
        "    def __repr__(self):\n",
        "        return str(self)\n",
        "\n",
        "class db:\n",
        "    def __init__(self, content: list[str]):\n",
        "        self.db_content = []\n",
        "        for line in content:\n",
        "            self.db_content.append(person(line))\n",
        "\n",
        "    def __eq__(self, other: object) -> bool:\n",
        "        return self.db_content == other.content\n",
        "\n",
        "    def __str__(self):\n",
        "        return reduce(lambda x, y: f'{x}{y}\\n', self.db_content, '')\n",
        "    \n",
        "    def __repr__(self):\n",
        "        return str(self)"
      ]
    },
    {
      "attachments": {},
      "cell_type": "markdown",
      "metadata": {},
      "source": [
        "### Ex 2:"
      ]
    },
    {
      "cell_type": "code",
      "execution_count": null,
      "metadata": {},
      "outputs": [],
      "source": [
        "from db import db\n",
        "from typing import Callable, Any\n",
        "\n",
        "class distribution:\n",
        "    def __init__(self, db: db, key: str, key_func: Callable[[Any], str] = None):\n",
        "        self.dist: dict = {}\n",
        "        self.key = key\n",
        "        if key_func == None:\n",
        "            for person in db.db_content:\n",
        "                new_key = person.data_fields[key]\n",
        "                if new_key not in self.dist:\n",
        "                    self.dist[new_key] = [0, 0]\n",
        "                i: int = 1 if person.data_fields['has_disease'] else 0\n",
        "                self.dist[new_key][i] += 1\n",
        "        else:\n",
        "            for person in db.db_content:\n",
        "                new_key = key_func(person.data_fields[key])\n",
        "                if new_key not in self.dist:\n",
        "                    self.dist[new_key] = [0, 0]\n",
        "                i: int = 1 if person.data_fields['has_disease'] else 0\n",
        "                self.dist[new_key][i] += 1\n",
        "\n",
        "    def __str__(self) -> str:\n",
        "        rep: str = ''\n",
        "        rep += f'distribution by {self.key}\\n[has disease]\\t[doesn\\'t have disease]\\n'\n",
        "        \n",
        "        for k, v in self.dist.items():\n",
        "            rep += f'{k}: {v[0]} {v[1]}\\n'\n",
        "        return rep\n",
        "\n",
        "    def __repr__(self) -> str:\n",
        "        return str(self)\n"
      ]
    },
    {
      "attachments": {},
      "cell_type": "markdown",
      "metadata": {},
      "source": [
        "### Ex 3:"
      ]
    },
    {
      "cell_type": "code",
      "execution_count": null,
      "metadata": {},
      "outputs": [],
      "source": [
        "def disease_by_sex(db: db):\n",
        "    return distribution(db, 'sex')"
      ]
    },
    {
      "attachments": {},
      "cell_type": "markdown",
      "metadata": {},
      "source": [
        "### Ex 4:"
      ]
    },
    {
      "cell_type": "code",
      "execution_count": null,
      "metadata": {},
      "outputs": [],
      "source": [
        "def disease_by_age_group(db: db):\n",
        "    grouper = lambda k: f'{(k // 5) * 5}-{((k // 5) * 5) + 4}'\n",
        "    return distribution(db, 'age', grouper)"
      ]
    },
    {
      "attachments": {},
      "cell_type": "markdown",
      "metadata": {},
      "source": [
        "### Ex 5:"
      ]
    },
    {
      "cell_type": "code",
      "execution_count": null,
      "metadata": {},
      "outputs": [],
      "source": [
        "def disease_by_colesterol(db: db):\n",
        "    grouper = lambda k: f'{(k // 10) * 10}-{((k // 10) * 10) + 9}'\n",
        "    return distribution(db, 'colesterol', grouper)"
      ]
    },
    {
      "attachments": {},
      "cell_type": "markdown",
      "metadata": {},
      "source": [
        "### Ex 6:"
      ]
    },
    {
      "cell_type": "code",
      "execution_count": null,
      "metadata": {},
      "outputs": [],
      "source": [
        "# na class distribution\n",
        "def __str__(self) -> str:\n",
        "    rep: str = ''\n",
        "    rep += f'distribution by {self.key}\\n[has disease]\\t[doesn\\'t have disease]\\n'\n",
        "    \n",
        "    for k, v in self.dist.items():\n",
        "        rep += f'{k}: {v[0]} {v[1]}\\n'\n",
        "    return rep"
      ]
    },
    {
      "attachments": {},
      "cell_type": "markdown",
      "metadata": {},
      "source": [
        "### Ex 7:"
      ]
    },
    {
      "cell_type": "code",
      "execution_count": null,
      "metadata": {},
      "outputs": [],
      "source": [
        "if __name__ == '__main__':\n",
        "    file = open('myheart.csv', 'r')\n",
        "    data_base = db(read_csv(file))\n",
        "    print(disease_by_sex(data_base))\n",
        "    print(disease_by_age_group(data_base))\n",
        "    print(disease_by_colesterol(data_base))"
      ]
    },
    {
      "attachments": {},
      "cell_type": "markdown",
      "metadata": {},
      "source": [
        "### Extra:\n",
        "###### Ex 3:\n",
        "![Sex distribuition](Dist_sex.png)\n",
        "###### Ex 4:\n",
        "![Age distribuition](Dist_age.png)\n",
        "###### Ex 5:\n",
        "![Colesterol distribuition](Dist_colesterol.png)"
      ]
    }
  ],
  "metadata": {
    "colab": {
      "provenance": []
    },
    "kernelspec": {
      "display_name": "Python 3",
      "language": "python",
      "name": "python3"
    },
    "language_info": {
      "name": "python",
      "version": "3.10.9 (main, Dec 19 2022, 17:35:49) [GCC 12.2.0]"
    },
    "vscode": {
      "interpreter": {
        "hash": "e7370f93d1d0cde622a1f8e1c04877d8463912d04d973331ad4851f04de6915a"
      }
    }
  },
  "nbformat": 4,
  "nbformat_minor": 0
}
